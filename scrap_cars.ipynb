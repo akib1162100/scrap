{
 "cells": [
  {
   "cell_type": "code",
   "execution_count": null,
   "id": "3d64f7d6-348f-45a2-a939-bad4416f9dd7",
   "metadata": {},
   "outputs": [],
   "source": [
    "!pip install numpy\n",
    "!pip install pandas"
   ]
  },
  {
   "cell_type": "code",
   "execution_count": 10,
   "id": "a0f00214-4fa6-490c-8d8d-931c9edb74fb",
   "metadata": {},
   "outputs": [],
   "source": [
    "from selenium import webdriver\n",
    "from selenium.webdriver.common.keys import Keys\n",
    "from selenium.webdriver.common.desired_capabilities import DesiredCapabilities\n",
    "from selenium.webdriver.chrome.options import Options\n",
    "from selenium.webdriver.common.action_chains import ActionChains\n",
    "from bs4 import BeautifulSoup\n",
    "import numpy as np\n",
    "import pandas as pd"
   ]
  },
  {
   "cell_type": "code",
   "execution_count": 2,
   "id": "40e02615-0511-470d-b3ac-e2c76239779e",
   "metadata": {},
   "outputs": [],
   "source": [
    "def get_driver(url):\n",
    "    driver = webdriver.Chrome()\n",
    "    driver.get(url)\n",
    "    return driver"
   ]
  },
  {
   "cell_type": "code",
   "execution_count": 3,
   "id": "f80bd014-e739-41a1-9561-f5e7b1c5390e",
   "metadata": {},
   "outputs": [],
   "source": [
    "def get_max_page(soup):\n",
    "    page_no= soup.find_all(\"a\",{ 'class':\"num-link mx-0_5 px-0_25 text-gray-darker\"})\n",
    "    pages = []\n",
    "    for i in page_no:\n",
    "        pages.append(i.string)\n",
    "    max_page_number = int(max(pages))\n",
    "    return max_page_number"
   ]
  },
  {
   "cell_type": "code",
   "execution_count": 4,
   "id": "a00a7616-24e4-463c-9d3f-cd3308423624",
   "metadata": {},
   "outputs": [],
   "source": [
    "def get_page_soup(driver):\n",
    "    new_page = driver.page_source\n",
    "    new_soup = BeautifulSoup(new_page)\n",
    "    return new_soup"
   ]
  },
  {
   "cell_type": "code",
   "execution_count": 5,
   "id": "d29306b6-a4f5-44d5-a79d-ccdc0b6538d7",
   "metadata": {},
   "outputs": [],
   "source": [
    "def get_car_details(soup):\n",
    "    car_name = soup.find('h1').get_text()\n",
    "    car_price = soup.find('div',{'class':\"heading-2 mb-0\"})\n",
    "    vin_no = soup.find('span',{'class':'mr-1'}).get_text()\n",
    "    summery_list = get_summery_list(soup)\n",
    "    top_features = get_top_features(soup)\n",
    "    return car_name,car_price,vin_no,summery_list,top_features"
   ]
  },
  {
   "cell_type": "code",
   "execution_count": 6,
   "id": "92dd358a-9e98-4b1b-bb15-22a37c3b47bf",
   "metadata": {},
   "outputs": [],
   "source": [
    "def get_summery_list(car_soup):\n",
    "    summery_section = car_soup.find('div',{'class':'mb-0 max-width text-capitalize pl-1_25 pl-md-0 pl-lg-1_25 row'})\n",
    "    if(summery_section != None):\n",
    "        children = summery_section.findChildren(\"div\" , recursive=False)\n",
    "        grand_childrens=[]\n",
    "        for child in children:\n",
    "            grand_children= child.findChildren(\"div\" , recursive=False)\n",
    "            grand_childrens.append(grand_children)\n",
    "        summery_list=[]\n",
    "        for col in grand_childrens:\n",
    "            for row in col:\n",
    "                summery_list.append(row.get_text())\n",
    "        return summery_list\n",
    "    else:\n",
    "        return []"
   ]
  },
  {
   "cell_type": "code",
   "execution_count": 7,
   "id": "67433c9e-0dd3-46cf-94cb-e2103c58141e",
   "metadata": {},
   "outputs": [],
   "source": [
    "def get_top_features(car_soup):\n",
    "    top_features = car_soup.find('section',{'class':'features-and-specs text-gray-darker'})\n",
    "    if(top_features != None):\n",
    "        top_features_children = top_features.findChildren(\"div\" , recursive=False)\n",
    "        top_features_grand_childrens=[]\n",
    "        for child in top_features_children:\n",
    "            grand_children= child.findChildren(\"div\" , recursive=False)\n",
    "            for grand_element in grand_children:\n",
    "                top_features_grand_childrens.append(grand_element.findChildren(\"div\" , recursive=False))\n",
    "\n",
    "        top_features_summery_list=[]\n",
    "        for col in top_features_grand_childrens:\n",
    "            for row in range(len(col)):\n",
    "                key = col[0].get_text()\n",
    "                value = ''\n",
    "                if row!=0:\n",
    "                    value = value + str(col[row].get_text())\n",
    "                    feature_dict = {key:value}\n",
    "                    top_features_summery_list.append(feature_dict)\n",
    "        return top_features_summery_list\n",
    "    else:\n",
    "        return []"
   ]
  },
  {
   "cell_type": "code",
   "execution_count": null,
   "id": "a3180cb4-f9ec-43c1-a765-c96f2129c5da",
   "metadata": {},
   "outputs": [
    {
     "name": "stdout",
     "output_type": "stream",
     "text": [
      "555\n"
     ]
    }
   ],
   "source": [
    "base_uri = \"https://www.edmunds.com/cars-for-sale-by-owner/\"\n",
    "uri = 'https://www.edmunds.com/inventory/srp.html?inventorytype=used%2Ccpo&pagenumber='\n",
    "driver_one = get_driver(base_uri)\n",
    "page_one = driver_one.page_source\n",
    "soup = BeautifulSoup(page_one)\n",
    "max_no = get_max_page(soup)\n",
    "print(max_no)\n",
    "data_list=[]\n",
    "for i in range(1,max_no+1):\n",
    "    uri =uri+str(i)\n",
    "    driver = get_driver(uri)\n",
    "    page = driver.page_source\n",
    "    car_soup = BeautifulSoup(page)\n",
    "    get_all_cards = car_soup.find_all('a',{'class':'usurp-inventory-card-vdp-link'})\n",
    "    for i in get_all_cards:\n",
    "        if i.string !=None:\n",
    "            link = driver.find_element_by_link_text(i.string)\n",
    "            # driver.execute_script(\"window.scrollTo(0,document.body.scrollHeight)\")\n",
    "            actions = ActionChains(driver)\n",
    "            actions.move_to_element(link).perform()\n",
    "            \n",
    "            link = driver.find_element_by_link_text(i.string)\n",
    "            link.click()\n",
    "            linked_page = driver.page_source\n",
    "            linked_soup = BeautifulSoup(linked_page)\n",
    "            data_list.append(get_car_details(linked_soup))\n",
    "            driver.back()\n",
    "    print(data_list)\n",
    "df = pd.DataFrame(data_list,columns=['Name','Price','VIN','Vehicle Summary','Top Features & Specs'])\n",
    "df"
   ]
  },
  {
   "cell_type": "code",
   "execution_count": null,
   "id": "e1045566-e0f1-41c5-9f1e-75901fc31aec",
   "metadata": {},
   "outputs": [],
   "source": []
  },
  {
   "cell_type": "code",
   "execution_count": null,
   "id": "880c70f8-3aff-460b-b13e-29fbdcbc6125",
   "metadata": {},
   "outputs": [],
   "source": []
  },
  {
   "cell_type": "code",
   "execution_count": null,
   "id": "3cbf08fc-e455-4fef-a64f-7a5200e0e8ad",
   "metadata": {},
   "outputs": [],
   "source": []
  },
  {
   "cell_type": "code",
   "execution_count": 27,
   "id": "293da7ed-b997-4933-b784-3390fdb81e65",
   "metadata": {},
   "outputs": [
    {
     "data": {
      "text/plain": [
       "'09622'"
      ]
     },
     "execution_count": 27,
     "metadata": {},
     "output_type": "execute_result"
    }
   ],
   "source": [
    "#from selenium import webdriver\n",
    "#driver = webdriver.Chrome()\n",
    "#driver.get(\"https://www.nytimes.com\")\n",
    "# headlines = driver.find_elements_by_class_name(\"size-16\")\n",
    "zip_val = driver.find_element_by_name('zip').get_attribute('value')\n",
    "\n",
    "zip_val"
   ]
  },
  {
   "cell_type": "code",
   "execution_count": null,
   "id": "299f4a6d-8812-4429-93ba-fb83c4d7e240",
   "metadata": {},
   "outputs": [],
   "source": []
  },
  {
   "cell_type": "code",
   "execution_count": 30,
   "id": "a0521dfa-a360-4a64-af01-7bf4095ce78d",
   "metadata": {},
   "outputs": [
    {
     "ename": "NoSuchElementException",
     "evalue": "Message: no such element: Unable to locate element: {\"method\":\"css selector\",\"selector\":\".usurp-inventory-card-vdp-link\"}\n  (Session info: chrome=94.0.4606.71)\n",
     "output_type": "error",
     "traceback": [
      "\u001b[1;31m---------------------------------------------------------------------------\u001b[0m",
      "\u001b[1;31mNoSuchElementException\u001b[0m                    Traceback (most recent call last)",
      "\u001b[1;32m~\\AppData\\Local\\Temp/ipykernel_7044/89232527.py\u001b[0m in \u001b[0;36m<module>\u001b[1;34m\u001b[0m\n\u001b[1;32m----> 1\u001b[1;33m \u001b[0melem\u001b[0m \u001b[1;33m=\u001b[0m \u001b[0mdriver\u001b[0m\u001b[1;33m.\u001b[0m\u001b[0mfind_element_by_class_name\u001b[0m\u001b[1;33m(\u001b[0m\u001b[1;34m'usurp-inventory-card-vdp-link'\u001b[0m\u001b[1;33m)\u001b[0m\u001b[1;33m.\u001b[0m\u001b[0mclick\u001b[0m\u001b[1;33m(\u001b[0m\u001b[1;33m)\u001b[0m\u001b[1;33m\u001b[0m\u001b[1;33m\u001b[0m\u001b[0m\n\u001b[0m",
      "\u001b[1;32m~\\Desktop\\scrap\\sc_env\\lib\\site-packages\\selenium\\webdriver\\remote\\webdriver.py\u001b[0m in \u001b[0;36mfind_element_by_class_name\u001b[1;34m(self, name)\u001b[0m\n\u001b[0;32m    562\u001b[0m             \u001b[0melement\u001b[0m \u001b[1;33m=\u001b[0m \u001b[0mdriver\u001b[0m\u001b[1;33m.\u001b[0m\u001b[0mfind_element_by_class_name\u001b[0m\u001b[1;33m(\u001b[0m\u001b[1;34m'foo'\u001b[0m\u001b[1;33m)\u001b[0m\u001b[1;33m\u001b[0m\u001b[1;33m\u001b[0m\u001b[0m\n\u001b[0;32m    563\u001b[0m         \"\"\"\n\u001b[1;32m--> 564\u001b[1;33m         \u001b[1;32mreturn\u001b[0m \u001b[0mself\u001b[0m\u001b[1;33m.\u001b[0m\u001b[0mfind_element\u001b[0m\u001b[1;33m(\u001b[0m\u001b[0mby\u001b[0m\u001b[1;33m=\u001b[0m\u001b[0mBy\u001b[0m\u001b[1;33m.\u001b[0m\u001b[0mCLASS_NAME\u001b[0m\u001b[1;33m,\u001b[0m \u001b[0mvalue\u001b[0m\u001b[1;33m=\u001b[0m\u001b[0mname\u001b[0m\u001b[1;33m)\u001b[0m\u001b[1;33m\u001b[0m\u001b[1;33m\u001b[0m\u001b[0m\n\u001b[0m\u001b[0;32m    565\u001b[0m \u001b[1;33m\u001b[0m\u001b[0m\n\u001b[0;32m    566\u001b[0m     \u001b[1;32mdef\u001b[0m \u001b[0mfind_elements_by_class_name\u001b[0m\u001b[1;33m(\u001b[0m\u001b[0mself\u001b[0m\u001b[1;33m,\u001b[0m \u001b[0mname\u001b[0m\u001b[1;33m)\u001b[0m\u001b[1;33m:\u001b[0m\u001b[1;33m\u001b[0m\u001b[1;33m\u001b[0m\u001b[0m\n",
      "\u001b[1;32m~\\Desktop\\scrap\\sc_env\\lib\\site-packages\\selenium\\webdriver\\remote\\webdriver.py\u001b[0m in \u001b[0;36mfind_element\u001b[1;34m(self, by, value)\u001b[0m\n\u001b[0;32m    974\u001b[0m                 \u001b[0mby\u001b[0m \u001b[1;33m=\u001b[0m \u001b[0mBy\u001b[0m\u001b[1;33m.\u001b[0m\u001b[0mCSS_SELECTOR\u001b[0m\u001b[1;33m\u001b[0m\u001b[1;33m\u001b[0m\u001b[0m\n\u001b[0;32m    975\u001b[0m                 \u001b[0mvalue\u001b[0m \u001b[1;33m=\u001b[0m \u001b[1;34m'[name=\"%s\"]'\u001b[0m \u001b[1;33m%\u001b[0m \u001b[0mvalue\u001b[0m\u001b[1;33m\u001b[0m\u001b[1;33m\u001b[0m\u001b[0m\n\u001b[1;32m--> 976\u001b[1;33m         return self.execute(Command.FIND_ELEMENT, {\n\u001b[0m\u001b[0;32m    977\u001b[0m             \u001b[1;34m'using'\u001b[0m\u001b[1;33m:\u001b[0m \u001b[0mby\u001b[0m\u001b[1;33m,\u001b[0m\u001b[1;33m\u001b[0m\u001b[1;33m\u001b[0m\u001b[0m\n\u001b[0;32m    978\u001b[0m             'value': value})['value']\n",
      "\u001b[1;32m~\\Desktop\\scrap\\sc_env\\lib\\site-packages\\selenium\\webdriver\\remote\\webdriver.py\u001b[0m in \u001b[0;36mexecute\u001b[1;34m(self, driver_command, params)\u001b[0m\n\u001b[0;32m    319\u001b[0m         \u001b[0mresponse\u001b[0m \u001b[1;33m=\u001b[0m \u001b[0mself\u001b[0m\u001b[1;33m.\u001b[0m\u001b[0mcommand_executor\u001b[0m\u001b[1;33m.\u001b[0m\u001b[0mexecute\u001b[0m\u001b[1;33m(\u001b[0m\u001b[0mdriver_command\u001b[0m\u001b[1;33m,\u001b[0m \u001b[0mparams\u001b[0m\u001b[1;33m)\u001b[0m\u001b[1;33m\u001b[0m\u001b[1;33m\u001b[0m\u001b[0m\n\u001b[0;32m    320\u001b[0m         \u001b[1;32mif\u001b[0m \u001b[0mresponse\u001b[0m\u001b[1;33m:\u001b[0m\u001b[1;33m\u001b[0m\u001b[1;33m\u001b[0m\u001b[0m\n\u001b[1;32m--> 321\u001b[1;33m             \u001b[0mself\u001b[0m\u001b[1;33m.\u001b[0m\u001b[0merror_handler\u001b[0m\u001b[1;33m.\u001b[0m\u001b[0mcheck_response\u001b[0m\u001b[1;33m(\u001b[0m\u001b[0mresponse\u001b[0m\u001b[1;33m)\u001b[0m\u001b[1;33m\u001b[0m\u001b[1;33m\u001b[0m\u001b[0m\n\u001b[0m\u001b[0;32m    322\u001b[0m             response['value'] = self._unwrap_value(\n\u001b[0;32m    323\u001b[0m                 response.get('value', None))\n",
      "\u001b[1;32m~\\Desktop\\scrap\\sc_env\\lib\\site-packages\\selenium\\webdriver\\remote\\errorhandler.py\u001b[0m in \u001b[0;36mcheck_response\u001b[1;34m(self, response)\u001b[0m\n\u001b[0;32m    240\u001b[0m                 \u001b[0malert_text\u001b[0m \u001b[1;33m=\u001b[0m \u001b[0mvalue\u001b[0m\u001b[1;33m[\u001b[0m\u001b[1;34m'alert'\u001b[0m\u001b[1;33m]\u001b[0m\u001b[1;33m.\u001b[0m\u001b[0mget\u001b[0m\u001b[1;33m(\u001b[0m\u001b[1;34m'text'\u001b[0m\u001b[1;33m)\u001b[0m\u001b[1;33m\u001b[0m\u001b[1;33m\u001b[0m\u001b[0m\n\u001b[0;32m    241\u001b[0m             \u001b[1;32mraise\u001b[0m \u001b[0mexception_class\u001b[0m\u001b[1;33m(\u001b[0m\u001b[0mmessage\u001b[0m\u001b[1;33m,\u001b[0m \u001b[0mscreen\u001b[0m\u001b[1;33m,\u001b[0m \u001b[0mstacktrace\u001b[0m\u001b[1;33m,\u001b[0m \u001b[0malert_text\u001b[0m\u001b[1;33m)\u001b[0m\u001b[1;33m\u001b[0m\u001b[1;33m\u001b[0m\u001b[0m\n\u001b[1;32m--> 242\u001b[1;33m         \u001b[1;32mraise\u001b[0m \u001b[0mexception_class\u001b[0m\u001b[1;33m(\u001b[0m\u001b[0mmessage\u001b[0m\u001b[1;33m,\u001b[0m \u001b[0mscreen\u001b[0m\u001b[1;33m,\u001b[0m \u001b[0mstacktrace\u001b[0m\u001b[1;33m)\u001b[0m\u001b[1;33m\u001b[0m\u001b[1;33m\u001b[0m\u001b[0m\n\u001b[0m\u001b[0;32m    243\u001b[0m \u001b[1;33m\u001b[0m\u001b[0m\n\u001b[0;32m    244\u001b[0m     \u001b[1;32mdef\u001b[0m \u001b[0m_value_or_default\u001b[0m\u001b[1;33m(\u001b[0m\u001b[0mself\u001b[0m\u001b[1;33m,\u001b[0m \u001b[0mobj\u001b[0m\u001b[1;33m,\u001b[0m \u001b[0mkey\u001b[0m\u001b[1;33m,\u001b[0m \u001b[0mdefault\u001b[0m\u001b[1;33m)\u001b[0m\u001b[1;33m:\u001b[0m\u001b[1;33m\u001b[0m\u001b[1;33m\u001b[0m\u001b[0m\n",
      "\u001b[1;31mNoSuchElementException\u001b[0m: Message: no such element: Unable to locate element: {\"method\":\"css selector\",\"selector\":\".usurp-inventory-card-vdp-link\"}\n  (Session info: chrome=94.0.4606.71)\n"
     ]
    }
   ],
   "source": [
    "elem = driver.find_element_by_class_name('usurp-inventory-card-vdp-link').click()"
   ]
  },
  {
   "cell_type": "code",
   "execution_count": null,
   "id": "35a073c3-0128-4064-86bc-04f5bd7e58e8",
   "metadata": {},
   "outputs": [],
   "source": []
  },
  {
   "cell_type": "code",
   "execution_count": null,
   "id": "e8030143-ef2c-425d-a547-960a493cd84b",
   "metadata": {},
   "outputs": [],
   "source": []
  }
 ],
 "metadata": {
  "kernelspec": {
   "display_name": "Python 3 (ipykernel)",
   "language": "python",
   "name": "python3"
  },
  "language_info": {
   "codemirror_mode": {
    "name": "ipython",
    "version": 3
   },
   "file_extension": ".py",
   "mimetype": "text/x-python",
   "name": "python",
   "nbconvert_exporter": "python",
   "pygments_lexer": "ipython3",
   "version": "3.8.8"
  }
 },
 "nbformat": 4,
 "nbformat_minor": 5
}
